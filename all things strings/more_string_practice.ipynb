{
 "cells": [
  {
   "cell_type": "markdown",
   "metadata": {},
   "source": [
    "##### .upper(), .title(), and .lower() adjust the casing of your string.\n",
    "\n",
    "##### .split() takes a string and creates a list of substrings.\n",
    "\n",
    "##### .join() takes a list of strings and creates a string.\n",
    "\n",
    "##### .strip() cleans off whitespace, or other noise from the beginning and end of a string.\n",
    "\n",
    "##### .replace() replaces all instances of a character/string in a string with another character/string.\n",
    "###### my_string_replaced = my_string.replace(\"a\",\"b\")\n",
    "\n",
    "##### .find() searches a string for a character/string and returns the index value that character/stringis found at.\n",
    "\n",
    "##### .format() and f-strings allow you to interpolate a string with variables."
   ]
  },
  {
   "cell_type": "markdown",
   "metadata": {},
   "source": [
    "First, start by printing highlighted_poems to the terminal and see how it displays."
   ]
  },
  {
   "cell_type": "code",
   "execution_count": 2,
   "metadata": {},
   "outputs": [
    {
     "name": "stdout",
     "output_type": "stream",
     "text": [
      "Afterimages:Audre Lorde:1997,  The Shadow:William Carlos Williams:1915,                     Ecstasy:Gabriela Mistral:1925,   Georgia Dusk:Jean Toomer:1923,                       Parting Before Daybreak:An Qi:2014, The Untold Want:Walt Whitman:1871,                     Mr. Grumpledump's Song:Shel Silverstein:2004, Angel Sound Mexico City:Carmen Boullosa:2013,                     In Love:Kamala Suraiyya:1965, Dream Variations:Langston Hughes:1994, Dreamwood:Adrienne Rich:1987\n"
     ]
    }
   ],
   "source": [
    "highlighted_poems = \"Afterimages:Audre Lorde:1997,  The Shadow:William Carlos Williams:1915, \\\n",
    "                    Ecstasy:Gabriela Mistral:1925,   Georgia Dusk:Jean Toomer:1923,   \\\n",
    "                    Parting Before Daybreak:An Qi:2014, The Untold Want:Walt Whitman:1871, \\\n",
    "                    Mr. Grumpledump's Song:Shel Silverstein:2004, Angel Sound Mexico City:Carmen Boullosa:2013, \\\n",
    "                    In Love:Kamala Suraiyya:1965, Dream Variations:Langston Hughes:1994, Dreamwood:Adrienne Rich:1987\"\n",
    "\n",
    "print(highlighted_poems)"
   ]
  },
  {
   "cell_type": "markdown",
   "metadata": {},
   "source": [
    "Start by splitting highlighted_poems at the commas and saving it to highlighted_poems_list."
   ]
  },
  {
   "cell_type": "code",
   "execution_count": 3,
   "metadata": {},
   "outputs": [],
   "source": [
    "highlighted_poems_list = highlighted_poems.split(',')"
   ]
  },
  {
   "cell_type": "markdown",
   "metadata": {},
   "source": [
    "Print highlighted_poems_list, how does the structure of the data look now?"
   ]
  },
  {
   "cell_type": "code",
   "execution_count": 4,
   "metadata": {},
   "outputs": [
    {
     "name": "stdout",
     "output_type": "stream",
     "text": [
      "['Afterimages:Audre Lorde:1997', '  The Shadow:William Carlos Williams:1915', '                     Ecstasy:Gabriela Mistral:1925', '   Georgia Dusk:Jean Toomer:1923', '                       Parting Before Daybreak:An Qi:2014', ' The Untold Want:Walt Whitman:1871', \"                     Mr. Grumpledump's Song:Shel Silverstein:2004\", ' Angel Sound Mexico City:Carmen Boullosa:2013', '                     In Love:Kamala Suraiyya:1965', ' Dream Variations:Langston Hughes:1994', ' Dreamwood:Adrienne Rich:1987']\n"
     ]
    }
   ],
   "source": [
    "print(highlighted_poems_list)"
   ]
  },
  {
   "cell_type": "markdown",
   "metadata": {},
   "source": [
    "Notice that there is inconsistent whitespace in highlighted_poems_list. Let’s clean that up.\n",
    "\n",
    "Start by creating a new empty list, highlighted_poems_stripped.\n",
    "\n",
    "Then, iterate through highlighted_poems_list using a for loop and for each poem strip away the whitespace and append it to your new list, highlighted_poems_stripped."
   ]
  },
  {
   "cell_type": "code",
   "execution_count": 5,
   "metadata": {},
   "outputs": [],
   "source": [
    "highlighted_poems_stripped = []\n",
    "for item in highlighted_poems_list:\n",
    "  highlighted_poems_stripped.append(item.strip())"
   ]
  },
  {
   "cell_type": "markdown",
   "metadata": {},
   "source": [
    "Print highlighted_poems_stripped.\n",
    "\n",
    "Looks good! All the whitespace is cleaned up."
   ]
  },
  {
   "cell_type": "code",
   "execution_count": 6,
   "metadata": {},
   "outputs": [
    {
     "name": "stdout",
     "output_type": "stream",
     "text": [
      "['Afterimages:Audre Lorde:1997', 'The Shadow:William Carlos Williams:1915', 'Ecstasy:Gabriela Mistral:1925', 'Georgia Dusk:Jean Toomer:1923', 'Parting Before Daybreak:An Qi:2014', 'The Untold Want:Walt Whitman:1871', \"Mr. Grumpledump's Song:Shel Silverstein:2004\", 'Angel Sound Mexico City:Carmen Boullosa:2013', 'In Love:Kamala Suraiyya:1965', 'Dream Variations:Langston Hughes:1994', 'Dreamwood:Adrienne Rich:1987']\n"
     ]
    }
   ],
   "source": [
    "print(highlighted_poems_stripped)"
   ]
  },
  {
   "cell_type": "markdown",
   "metadata": {},
   "source": [
    "Next we want to break up all the information for each poem into it’s own list, so we end up with a list of lists.\n",
    "\n",
    "Create a new empty list called highlighted_poems_details."
   ]
  },
  {
   "cell_type": "code",
   "execution_count": 7,
   "metadata": {},
   "outputs": [],
   "source": [
    "highlighted_poems_details = []"
   ]
  },
  {
   "cell_type": "markdown",
   "metadata": {},
   "source": [
    "Iterate through highlighted_poems_stripped and split each string around the : characters and append the new lists into highlighted_poems_details."
   ]
  },
  {
   "cell_type": "code",
   "execution_count": 18,
   "metadata": {},
   "outputs": [],
   "source": [
    "for item in highlighted_poems_stripped:\n",
    "    highlighted_poems_details.append(item.split(':'))\n",
    "    \n",
    "#print(highlighted_poems_details)"
   ]
  },
  {
   "cell_type": "markdown",
   "metadata": {},
   "source": [
    " Now we want to separate out all of the titles, the poets, and the publication dates into their own lists.\n",
    "\n",
    "Create three new empty lists, titles, poets, and dates."
   ]
  },
  {
   "cell_type": "code",
   "execution_count": 11,
   "metadata": {},
   "outputs": [],
   "source": [
    "titles = []\n",
    "poets = []\n",
    "dates = []"
   ]
  },
  {
   "cell_type": "markdown",
   "metadata": {},
   "source": [
    "Iterate through highlighted_poems_details and for each list in the list append the appropriate elements into the lists titles, poets, and dates.\n",
    "\n",
    "For example, for the poem The Shadow (1915) by William Carlos Williams your code should be adding \"The Shadow\" to titles, \"William Carlos Williams\" to poets, and \"1915\" to dates."
   ]
  },
  {
   "cell_type": "code",
   "execution_count": 14,
   "metadata": {},
   "outputs": [],
   "source": [
    "for item in highlighted_poems_details:\n",
    "  titles.append(item[0])\n",
    "  poets.append(item[1])\n",
    "  dates.append(item[2])"
   ]
  },
  {
   "cell_type": "markdown",
   "metadata": {},
   "source": [
    "Finally, write a for loop that uses either f-strings or .format() to prints out the following string for each poem:\n",
    "\n",
    "The poem TITLE was published by POET in DATE."
   ]
  },
  {
   "cell_type": "code",
   "execution_count": 13,
   "metadata": {},
   "outputs": [
    {
     "name": "stdout",
     "output_type": "stream",
     "text": [
      "The poem Afterimages was published by Audre Lorde in 1997\n",
      "The poem The Shadow was published by William Carlos Williams in 1915\n",
      "The poem Ecstasy was published by Gabriela Mistral in 1925\n",
      "The poem Georgia Dusk was published by Jean Toomer in 1923\n",
      "The poem Parting Before Daybreak was published by An Qi in 2014\n",
      "The poem The Untold Want was published by Walt Whitman in 1871\n",
      "The poem Mr. Grumpledump's Song was published by Shel Silverstein in 2004\n",
      "The poem Angel Sound Mexico City was published by Carmen Boullosa in 2013\n",
      "The poem In Love was published by Kamala Suraiyya in 1965\n",
      "The poem Dream Variations was published by Langston Hughes in 1994\n",
      "The poem Dreamwood was published by Adrienne Rich in 1987\n"
     ]
    }
   ],
   "source": [
    "for i in range(0, len(highlighted_poems_details)):\n",
    "    print('The poem {} was published by {} in {}'.format(titles[i], poets[i], dates[i]))"
   ]
  }
 ],
 "metadata": {
  "kernelspec": {
   "display_name": "Python 3",
   "language": "python",
   "name": "python3"
  },
  "language_info": {
   "codemirror_mode": {
    "name": "ipython",
    "version": 3
   },
   "file_extension": ".py",
   "mimetype": "text/x-python",
   "name": "python",
   "nbconvert_exporter": "python",
   "pygments_lexer": "ipython3",
   "version": "3.6.5"
  }
 },
 "nbformat": 4,
 "nbformat_minor": 4
}
