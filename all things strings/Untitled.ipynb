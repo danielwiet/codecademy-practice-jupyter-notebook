{
 "cells": [
  {
   "cell_type": "code",
   "execution_count": 7,
   "metadata": {},
   "outputs": [
    {
     "name": "stdin",
     "output_type": "stream",
     "text": [
      "Enter any string:  I am that I am\n"
     ]
    },
    {
     "name": "stdout",
     "output_type": "stream",
     "text": [
      "\n",
      "Removing vowels from the given string\n",
      "New string after successfully removed all the vowels:\n",
      "I #m th#t I #m\n"
     ]
    }
   ],
   "source": [
    "email = input(\"Enter any string: \")\n",
    "if string == 'x':\n",
    "    exit()\n",
    "else:\n",
    "    newstr = email\n",
    "    print(\"\\nRemoving vowels from the given string\")\n",
    "    vowels = ('a', 'e', 'i', 'o', 'u')\n",
    "    lower_string = string.lower()\n",
    "    for x in lower_string:\n",
    "        if x in vowels:\n",
    "            newstr = newstr.replace(x,\"#\")\n",
    "    print(\"New string after successfully removed all the vowels:\")\n",
    "    print(newstr)"
   ]
  },
  {
   "cell_type": "code",
   "execution_count": 15,
   "metadata": {},
   "outputs": [],
   "source": [
    "strings = [\"a\", \"ab\", \"aa\", \"c\"]\n",
    "\n",
    "new_strings = []\n",
    "\n",
    "for string in strings:\n",
    "    new_string = string.replace(\"a\", \"1\")\n",
    "\n",
    "    new_strings.append(new_string)"
   ]
  },
  {
   "cell_type": "code",
   "execution_count": null,
   "metadata": {},
   "outputs": [],
   "source": []
  }
 ],
 "metadata": {
  "kernelspec": {
   "display_name": "Python 3",
   "language": "python",
   "name": "python3"
  },
  "language_info": {
   "codemirror_mode": {
    "name": "ipython",
    "version": 3
   },
   "file_extension": ".py",
   "mimetype": "text/x-python",
   "name": "python",
   "nbconvert_exporter": "python",
   "pygments_lexer": "ipython3",
   "version": "3.6.5"
  }
 },
 "nbformat": 4,
 "nbformat_minor": 4
}
