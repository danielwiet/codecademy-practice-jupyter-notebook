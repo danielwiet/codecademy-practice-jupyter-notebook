{
 "cells": [
  {
   "cell_type": "code",
   "execution_count": 2,
   "metadata": {},
   "outputs": [
    {
     "name": "stdout",
     "output_type": "stream",
     "text": [
      "   Unnamed: 0       State  TotalPop             Hispanic                White  \\\n",
      "0           0     Alabama   4830620  3.7516156462584975%     61.878656462585%   \n",
      "1           1      Alaska    733375   5.909580838323351%  60.910179640718574%   \n",
      "2           2     Arizona   6641928  29.565921052631502%  57.120000000000026%   \n",
      "3           3    Arkansas   2958208   6.215474452554738%   71.13781021897813%   \n",
      "4           4  California  38421464  37.291874687968054%   40.21578881677474%   \n",
      "\n",
      "                 Black                Native                Asian  \\\n",
      "0   31.25297619047618%   0.4532312925170065%  1.0502551020408146%   \n",
      "1  2.8485029940119775%    16.39101796407186%   5.450299401197604%   \n",
      "2  3.8509868421052658%     4.35506578947368%   2.876578947368419%   \n",
      "3  18.968759124087573%   0.5229197080291965%  1.1423357664233578%   \n",
      "4   5.677396405391911%  0.40529206190713685%  13.052234148776776%   \n",
      "\n",
      "                Pacific              Income            GenderPop  \n",
      "0  0.03435374149659865%  $43296.35860306644    2341093M_2489527F  \n",
      "1   1.0586826347305378%  $70354.74390243902      384160M_349215F  \n",
      "2  0.16763157894736833%  $54207.82095490716    3299088M_3342840F  \n",
      "3  0.14686131386861315%  $41935.63396778917    1451913M_1506295F  \n",
      "4  0.35141038442336353%  $67264.78230266465  19087135M_19334329F  \n"
     ]
    },
    {
     "data": {
      "image/png": "[encoded data removed]",
      "text/plain": [
       "<Figure size 432x288 with 1 Axes>"
      ]
     },
     "metadata": {
      "needs_background": "light"
     },
     "output_type": "display_data"
    }
   ],
   "source": [
    "import pandas as pd\n",
    "import numpy as np\n",
    "import matplotlib.pyplot as plt\n",
    "import glob\n",
    "\n",
    "us_census = glob.glob('states*.csv')\n",
    "\n",
    "# first create an empty df list\n",
    "# iterate through the filenames of the globbed df (the data equals pd.read the filename) then append the data into the empty data frame\n",
    "# finally concatenate (pd.concat) the original df with the iterated df\n",
    "\n",
    "df_list = []\n",
    "for i in us_census:\n",
    "  data = pd.read_csv(i)\n",
    "  df_list.append(data)\n",
    "\n",
    "us_census = pd.concat(df_list)\n",
    "print(us_census.head())\n",
    "#print(us_census.nunique())\n",
    "\n",
    "#print(us_census.columns)\n",
    "#print(us_census.dtypes)\n",
    "\n",
    "# melt can be used to only display neccessary columns\n",
    "# need to remove % from race columns and convert to numeric\n",
    "  # df.col = df.col.replace('[\\%,]', regex=True)\n",
    "# need to remove $ from income\n",
    "  #df.col = df.col.replace('[\\$,]', regex=True)\n",
    "# need to separate GenderPop by character (var = df.column.str.split('_')), then remove the M/F letters at the end (split by index by using df.column.str[:-1]) and store them in 2 different columns (df.new_col_name = df.var.str.get(0)) [popM, popF]\n",
    "# convert to numeric\n",
    "  # df.col = pd.to_numeric(df.col)\n",
    "\n",
    "us_census.Income = us_census.Income.replace('[\\$,]', '', regex=True)\n",
    "us_census.Income = pd.to_numeric(us_census.Income)\n",
    "# print(us_census.Income.head(10))\n",
    "# print(us_census.dtypes)\n",
    "\n",
    "gender_split = us_census.GenderPop.str.split('_')\n",
    "us_census['mpop'] = gender_split.str[0]\n",
    "us_census['fpop'] = gender_split.str[1]\n",
    "# print(us_census.head())\n",
    "us_census.mpop = us_census.mpop.str[0:-1]\n",
    "# print(us_census.mpop.dtype)\n",
    "# print(us_census.mpop.head())\n",
    "us_census.fpop = us_census.fpop.str[0:-1]\n",
    "\n",
    "us_census.mpop = pd.to_numeric(us_census.mpop)\n",
    "us_census.fpop = pd.to_numeric(us_census.fpop)\n",
    "# print(us_census.mpop.dtype)\n",
    "# print(us_census.fpop.dtype)\n",
    "#print(us_census.mpop, us_census.State)\n",
    "\n",
    "census_race = us_census[['Hispanic', 'White', 'Black', 'Native', 'Asian', 'Pacific']]\n",
    "\n",
    "# print(census_race.head())\n",
    "remove = '%'\n",
    "for i in remove:\n",
    "  census_race = census_race.replace(i, '', regex=True)\n",
    "  # census_race = pd.to_numeric(census_race) --doesn't work...\n",
    "\n",
    "#print(census_race.dtypes)\n",
    "#print(census_race) # this worked, but can it be a lambda function?\n",
    "\n",
    "\n",
    "plt.scatter(x=us_census.fpop, y=us_census.Income, linewidths=1, alpha=.7, edgecolor='k', s=100, marker='H', cmap='Greens')\n",
    "plt.show()"
   ]
  }
 ],
 "metadata": {
  "kernelspec": {
   "display_name": "Python 3",
   "language": "python",
   "name": "python3"
  },
  "language_info": {
   "codemirror_mode": {
    "name": "ipython",
    "version": 3
   },
   "file_extension": ".py",
   "mimetype": "text/x-python",
   "name": "python",
   "nbconvert_exporter": "python",
   "pygments_lexer": "ipython3",
   "version": "3.6.5"
  }
 },
 "nbformat": 4,
 "nbformat_minor": 4
}
