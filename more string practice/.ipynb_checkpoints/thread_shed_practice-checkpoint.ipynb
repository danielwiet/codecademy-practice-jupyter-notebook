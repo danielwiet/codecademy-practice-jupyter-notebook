{
 "cells": [
  {
   "cell_type": "code",
   "execution_count": 6,
   "metadata": {},
   "outputs": [],
   "source": [
    "daily_sales = \\\n",
    "\"\"\"Edith Mcbride   ;,;$1.21   ;,;   white ;,; \n",
    "09/15/17   ,Herbert Tran   ;,;   $7.29;,; \n",
    "white&blue;,;   09/15/17 ,Paul Clarke ;,;$12.52 \n",
    ";,;   white&blue ;,; 09/15/17 ,Lucille Caldwell   \n",
    ";,;   $5.13   ;,; white   ;,; 09/15/17,\n",
    "Eduardo George   ;,;$20.39;,; white&yellow \n",
    ";,;09/15/17   ,   Danny Mclaughlin;,;$30.82;,;   \n",
    "purple ;,;09/15/17 ,Stacy Vargas;,; $1.85   ;,; \n",
    "purple&yellow ;,;09/15/17,   Shaun Brock;,; \n",
    "$17.98;,;purple&yellow ;,; 09/15/17 , \n",
    "Erick Harper ;,;$17.41;,; blue ;,; 09/15/17, \n",
    "Michelle Howell ;,;$28.59;,; blue;,;   09/15/17   , \n",
    "Carroll Boyd;,; $14.51;,;   purple&blue   ;,;   \n",
    "09/15/17   , Teresa Carter   ;,; $19.64 ;,; \n",
    "white;,;09/15/17   ,   Jacob Kennedy ;,; $11.40   \n",
    ";,; white&red   ;,; 09/15/17, Craig Chambers;,; \n",
    "$8.79 ;,; white&blue&red   ;,;09/15/17   , Peggy Bell;,; $8.65 ;,;blue   ;,; 09/15/17,   Kenneth Cunningham ;,;   $10.53;,;   green&blue   ;,; \n",
    "09/15/17   ,   Marvin Morgan;,;   $16.49;,; \n",
    "green&blue&red   ;,;   09/15/17 ,Marjorie Russell \n",
    ";,; $6.55 ;,;   green&blue&red;,;   09/15/17 ,\n",
    "Israel Cummings;,;   $11.86   ;,;black;,;  \n",
    "09/15/17,   June Doyle   ;,;   $22.29 ;,;  \n",
    "black&yellow ;,;09/15/17 , Jaime Buchanan   ;,;   \n",
    "$8.35;,;   white&black&yellow   ;,;   09/15/17,   \n",
    "Rhonda Farmer;,;$2.91 ;,;   white&black&yellow   \n",
    ";,;09/15/17, Darren Mckenzie ;,;$22.94;,;green \n",
    ";,;09/15/17,Rufus Malone;,;$4.70   ;,; green&yellow \n",
    ";,; 09/15/17   ,Hubert Miles;,;   $3.59   \n",
    ";,;green&yellow&blue;,;   09/15/17   , Joseph Bridges  ;,;$5.66   ;,; green&yellow&purple&blue \n",
    ";,;   09/15/17 , Sergio Murphy   ;,;$17.51   ;,;   \n",
    "black   ;,;   09/15/17 , Audrey Ferguson ;,; \n",
    "$5.54;,;black&blue   ;,;09/15/17 ,Edna Williams ;,; \n",
    "$17.13;,; black&blue;,;   09/15/17,   Randy Fleming;,;   $21.13 ;,;black ;,;09/15/17 ,Elisa Hart;,; $0.35   ;,; black&purple;,;   09/15/17   ,\n",
    "Ernesto Hunt ;,; $13.91   ;,;   black&purple ;,;   \n",
    "09/15/17,   Shannon Chavez   ;,;$19.26   ;,; \n",
    "yellow;,; 09/15/17   , Sammy Cain;,; $5.45;,;   \n",
    "yellow&red ;,;09/15/17 ,   Steven Reeves ;,;$5.50   \n",
    ";,;   yellow;,;   09/15/17, Ruben Jones   ;,; \n",
    "$14.56 ;,;   yellow&blue;,;09/15/17 , Essie Hansen;,;   $7.33   ;,;   yellow&blue&red\n",
    ";,; 09/15/17   ,   Rene Hardy   ;,; $20.22   ;,; \n",
    "black ;,;   09/15/17 ,   Lucy Snyder   ;,; $8.67   \n",
    ";,;black&red  ;,; 09/15/17 ,Dallas Obrien ;,;   \n",
    "$8.31;,;   black&red ;,;   09/15/17,   Stacey Payne \n",
    ";,;   $15.70   ;,;   white&black&red ;,;09/15/17   \n",
    ",   Tanya Cox   ;,;   $6.74   ;,;yellow   ;,; \n",
    "09/15/17 , Melody Moran ;,;   $30.84   \n",
    ";,;yellow&black;,;   09/15/17 , Louise Becker   ;,; \n",
    "$12.31 ;,; green&yellow&black;,;   09/15/17 ,\n",
    "Ryan Webster;,;$2.94 ;,; yellow ;,; 09/15/17 \n",
    ",Justin Blake ;,; $22.46   ;,;white&yellow ;,;   \n",
    "09/15/17,   Beverly Baldwin ;,;   $6.60;,;   \n",
    "white&yellow&black ;,;09/15/17   ,   Dale Brady   \n",
    ";,;   $6.27 ;,; yellow   ;,;09/15/17 ,Guadalupe Potter ;,;$21.12   ;,; yellow;,; 09/15/17   , \n",
    "Desiree Butler ;,;$2.10   ;,;white;,; 09/15/17  \n",
    ",Sonja Barnett ;,; $14.22 ;,;white&black;,;   \n",
    "09/15/17, Angelica Garza;,;$11.60;,;white&black   \n",
    ";,;   09/15/17   ,   Jamie Welch   ;,; $25.27   ;,; \n",
    "white&black&red ;,;09/15/17   ,   Rex Hudson   \n",
    ";,;$8.26;,;   purple;,; 09/15/17 ,   Nadine Gibbs \n",
    ";,;   $30.80 ;,;   purple&yellow   ;,; 09/15/17   , \n",
    "Hannah Pratt;,;   $22.61   ;,;   purple&yellow   \n",
    ";,;09/15/17,Gayle Richards;,;$22.19 ;,; \n",
    "green&purple&yellow ;,;09/15/17   ,Stanley Holland \n",
    ";,; $7.47   ;,; red ;,; 09/15/17 , Anna Dean;,;$5.49 ;,; yellow&red ;,;   09/15/17   ,\n",
    "Terrance Saunders ;,;   $23.70  ;,;green&yellow&red \n",
    ";,; 09/15/17 ,   Brandi Zimmerman ;,; $26.66 ;,; \n",
    "red   ;,;09/15/17 ,Guadalupe Freeman ;,; $25.95;,; \n",
    "green&red ;,;   09/15/17   ,Irving Patterson \n",
    ";,;$19.55 ;,; green&white&red ;,;   09/15/17 ,Karl Ross;,;   $15.68;,;   white ;,;   09/15/17 , Brandy Cortez ;,;$23.57;,;   white&red   ;,;09/15/17, \n",
    "Mamie Riley   ;,;$29.32;,; purple;,;09/15/17 ,Mike Thornton   ;,; $26.44 ;,;   purple   ;,; 09/15/17, \n",
    "Jamie Vaughn   ;,; $17.24;,;green ;,; 09/15/17   , \n",
    "Noah Day ;,;   $8.49   ;,;green   ;,;09/15/17   \n",
    ",Josephine Keller ;,;$13.10 ;,;green;,;   09/15/17 ,   Tracey Wolfe;,;$20.39 ;,; red   ;,; 09/15/17 ,\n",
    "Ignacio Parks;,;$14.70   ;,; white&red ;,;09/15/17 \n",
    ", Beatrice Newman ;,;$22.45   ;,;white&purple&red \n",
    ";,;   09/15/17, Andre Norris   ;,;   $28.46   ;,;   \n",
    "red;,;   09/15/17 ,   Albert Lewis ;,; $23.89;,;   \n",
    "black&red;,; 09/15/17,   Javier Bailey   ;,;   \n",
    "$24.49   ;,; black&red ;,; 09/15/17   , Everett Lyons ;,;$1.81;,;   black&red ;,; 09/15/17 ,   \n",
    "Abraham Maxwell;,; $6.81   ;,;green;,;   09/15/17   \n",
    ",   Traci Craig ;,;$0.65;,; green&yellow;,; \n",
    "09/15/17 , Jeffrey Jenkins   ;,;$26.45;,; \n",
    "green&yellow&blue   ;,;   09/15/17,   Merle Wilson \n",
    ";,;   $7.69 ;,; purple;,; 09/15/17,Janis Franklin   \n",
    ";,;$8.74   ;,; purple&black   ;,;09/15/17 ,  \n",
    "Leonard Guerrero ;,;   $1.86   ;,;yellow  \n",
    ";,;09/15/17,Lana Sanchez;,;$14.75   ;,; yellow;,;   \n",
    "09/15/17   ,Donna Ball ;,; $28.10  ;,; \n",
    "yellow&blue;,;   09/15/17   , Terrell Barber   ;,; \n",
    "$9.91   ;,; green ;,;09/15/17   ,Jody Flores;,; \n",
    "$16.34 ;,; green ;,;   09/15/17,   Daryl Herrera \n",
    ";,;$27.57;,; white;,;   09/15/17   , Miguel Mcguire;,;$5.25;,; white&blue   ;,;   09/15/17 ,   \n",
    "Rogelio Gonzalez;,; $9.51;,;   white&black&blue   \n",
    ";,;   09/15/17   ,   Lora Hammond ;,;$20.56 ;,; \n",
    "green;,;   09/15/17,Owen Ward;,; $21.64   ;,;   \n",
    "green&yellow;,;09/15/17,Malcolm Morales ;,;   \n",
    "$24.99   ;,;   green&yellow&black;,; 09/15/17 ,   \n",
    "Eric Mcdaniel ;,;$29.70;,; green ;,; 09/15/17 \n",
    ",Madeline Estrada;,;   $15.52;,;green;,;   09/15/17 \n",
    ", Leticia Manning;,;$15.70 ;,; green&purple;,; \n",
    "09/15/17 ,   Mario Wallace ;,; $12.36 ;,;green ;,; \n",
    "09/15/17,Lewis Glover;,;   $13.66   ;,;   \n",
    "green&white;,;09/15/17,   Gail Phelps   ;,;$30.52   \n",
    ";,; green&white&blue   ;,; 09/15/17 , Myrtle Morris \n",
    ";,;   $22.66   ;,; green&white&blue;,;09/15/17\"\"\""
   ]
  },
  {
   "cell_type": "markdown",
   "metadata": {},
   "source": [
    " "
   ]
  },
  {
   "cell_type": "markdown",
   "metadata": {},
   "source": [
    "It looks like each transaction is separated from the next transaction by a comma and then each piece of data within a transaction is separated by the artifact ;,;.\n",
    "\n",
    "If we want to split up daily_sales into a list of individual transactions, we are going to want to split by ',' but first, we need to replace the artifact ;,; to something without a comma, so we don’t split any transactions themselves.\n",
    "\n",
    "Replace all the instances of ;,; in daily_sales with some other character and save the result to daily_sales_replaced."
   ]
  },
  {
   "cell_type": "code",
   "execution_count": 5,
   "metadata": {},
   "outputs": [],
   "source": [
    "replaced_sales_char = daily_sales.replace(';,;', '!!')"
   ]
  },
  {
   "cell_type": "markdown",
   "metadata": {},
   "source": [
    " "
   ]
  },
  {
   "cell_type": "markdown",
   "metadata": {},
   "source": [
    "Now we can split the string into a list of each individual transaction.\n",
    "\n",
    "Split daily_sales_replaced around commas and save it to a new list daily_transactions."
   ]
  },
  {
   "cell_type": "code",
   "execution_count": 7,
   "metadata": {},
   "outputs": [],
   "source": [
    "daily_transactions = replaced_sales_char.split(',')"
   ]
  },
  {
   "cell_type": "code",
   "execution_count": 9,
   "metadata": {},
   "outputs": [],
   "source": [
    "#print(daily_transactions)"
   ]
  },
  {
   "cell_type": "markdown",
   "metadata": {},
   "source": [
    " \n"
   ]
  },
  {
   "cell_type": "markdown",
   "metadata": {},
   "source": [
    "Our next step is to split each individual transaction into a list of its data points.\n",
    "\n",
    "First, define an empty list daily_transactions_split"
   ]
  },
  {
   "cell_type": "code",
   "execution_count": 10,
   "metadata": {},
   "outputs": [],
   "source": [
    "daily_transactions_split = []"
   ]
  },
  {
   "cell_type": "markdown",
   "metadata": {},
   "source": [
    " "
   ]
  },
  {
   "cell_type": "markdown",
   "metadata": {},
   "source": [
    " iterate through daily_transactions (remember, this is a list of strings currently), and for each transaction, split the string around whatever character you replaced the ;,; artifacts with in Step 2.\n",
    "\n",
    "Append each of these split strings (which are lists now) to our new list daily_transactions_split"
   ]
  },
  {
   "cell_type": "code",
   "execution_count": 25,
   "metadata": {},
   "outputs": [],
   "source": [
    "for item in daily_transactions:\n",
    "    daily_transactions_split.append(item.split('!!'))\n",
    "    \n",
    "#print(daily_transactions_split)"
   ]
  },
  {
   "cell_type": "markdown",
   "metadata": {},
   "source": [
    " "
   ]
  },
  {
   "cell_type": "markdown",
   "metadata": {},
   "source": [
    "It looks like each data item has inconsistent whitespace around it. First, define an empty list transactions_clean.\n",
    "\n",
    "Now, Iterate through daily_transactions_split and for each transaction iterate through the different data points and strip off any whitespace.\n",
    "\n",
    "Add each of these cleaned up transactions to the new list transactions_clean."
   ]
  },
  {
   "cell_type": "code",
   "execution_count": 23,
   "metadata": {},
   "outputs": [],
   "source": [
    "transactions_clean = []\n",
    "\n",
    "for item in daily_transactions_split:\n",
    "    transaction_clean = []\n",
    "    for datapoints in item:\n",
    "        transaction_clean.append(datapoints.strip())\n",
    "    transactions_clean.append(transaction_clean)"
   ]
  },
  {
   "cell_type": "code",
   "execution_count": 32,
   "metadata": {},
   "outputs": [],
   "source": [
    "#print(transactions_clean)"
   ]
  },
  {
   "cell_type": "markdown",
   "metadata": {},
   "source": [
    " \n",
    " "
   ]
  },
  {
   "cell_type": "markdown",
   "metadata": {},
   "source": [
    "Create three empty lists. \n",
    "\n",
    "customers \n",
    "sales\n",
    "thread_sold \n",
    "\n",
    "We are going to collect the individual data points for each transaction in these lists."
   ]
  },
  {
   "cell_type": "code",
   "execution_count": 27,
   "metadata": {},
   "outputs": [],
   "source": [
    "customers = []\n",
    "sales = []\n",
    "thread_sold = []"
   ]
  },
  {
   "cell_type": "code",
   "execution_count": 35,
   "metadata": {},
   "outputs": [
    {
     "name": "stdout",
     "output_type": "stream",
     "text": [
      "[['E', '$', 'w', '0'], ['H', '$', 'w', '0'], ['P', '$', 'w', '0'], ['L', '$', 'w', '0'], ['E', '$', 'w', '0'], ['D', '$', 'p', '0'], ['S', '$', 'p', '0'], ['S', '$', 'p', '0'], ['E', '$', 'b', '0'], ['M', '$', 'b', '0'], ['C', '$', 'p', '0'], ['T', '$', 'w', '0'], ['J', '$', 'w', '0'], ['C', '$', 'w', '0'], ['P', '$', 'b', '0'], ['K', '$', 'g', '0'], ['M', '$', 'g', '0'], ['M', '$', 'g', '0'], ['I', '$', 'b', '0'], ['J', '$', 'b', '0'], ['J', '$', 'w', '0'], ['R', '$', 'w', '0'], ['D', '$', 'g', '0'], ['R', '$', 'g', '0'], ['H', '$', 'g', '0'], ['J', '$', 'g', '0'], ['S', '$', 'b', '0'], ['A', '$', 'b', '0'], ['E', '$', 'b', '0'], ['R', '$', 'b', '0'], ['E', '$', 'b', '0'], ['E', '$', 'b', '0'], ['S', '$', 'y', '0'], ['S', '$', 'y', '0'], ['S', '$', 'y', '0'], ['R', '$', 'y', '0'], ['E', '$', 'y', '0'], ['R', '$', 'b', '0'], ['L', '$', 'b', '0'], ['D', '$', 'b', '0'], ['S', '$', 'w', '0'], ['T', '$', 'y', '0'], ['M', '$', 'y', '0'], ['L', '$', 'g', '0'], ['R', '$', 'y', '0'], ['J', '$', 'w', '0'], ['B', '$', 'w', '0'], ['D', '$', 'y', '0'], ['G', '$', 'y', '0'], ['D', '$', 'w', '0'], ['S', '$', 'w', '0'], ['A', '$', 'w', '0'], ['J', '$', 'w', '0'], ['R', '$', 'p', '0'], ['N', '$', 'p', '0'], ['H', '$', 'p', '0'], ['G', '$', 'g', '0'], ['S', '$', 'r', '0'], ['A', '$', 'y', '0'], ['T', '$', 'g', '0'], ['B', '$', 'r', '0'], ['G', '$', 'g', '0'], ['I', '$', 'g', '0'], ['K', '$', 'w', '0'], ['B', '$', 'w', '0'], ['M', '$', 'p', '0'], ['M', '$', 'p', '0'], ['J', '$', 'g', '0'], ['N', '$', 'g', '0'], ['J', '$', 'g', '0'], ['T', '$', 'r', '0'], ['I', '$', 'w', '0'], ['B', '$', 'w', '0'], ['A', '$', 'r', '0'], ['A', '$', 'b', '0'], ['J', '$', 'b', '0'], ['E', '$', 'b', '0'], ['A', '$', 'g', '0'], ['T', '$', 'g', '0'], ['J', '$', 'g', '0'], ['M', '$', 'p', '0'], ['J', '$', 'p', '0'], ['L', '$', 'y', '0'], ['L', '$', 'y', '0'], ['D', '$', 'y', '0'], ['T', '$', 'g', '0'], ['J', '$', 'g', '0'], ['D', '$', 'w', '0'], ['M', '$', 'w', '0'], ['R', '$', 'w', '0'], ['L', '$', 'g', '0'], ['O', '$', 'g', '0'], ['M', '$', 'g', '0'], ['E', '$', 'g', '0'], ['M', '$', 'g', '0'], ['L', '$', 'g', '0'], ['M', '$', 'g', '0'], ['L', '$', 'g', '0'], ['G', '$', 'g', '0'], ['M', '$', 'g', '0'], ['E', '$', 'w', '0'], ['H', '$', 'w', '0'], ['P', '$', 'w', '0'], ['L', '$', 'w', '0'], ['E', '$', 'w', '0'], ['D', '$', 'p', '0'], ['S', '$', 'p', '0'], ['S', '$', 'p', '0'], ['E', '$', 'b', '0'], ['M', '$', 'b', '0'], ['C', '$', 'p', '0'], ['T', '$', 'w', '0'], ['J', '$', 'w', '0'], ['C', '$', 'w', '0'], ['P', '$', 'b', '0'], ['K', '$', 'g', '0'], ['M', '$', 'g', '0'], ['M', '$', 'g', '0'], ['I', '$', 'b', '0'], ['J', '$', 'b', '0'], ['J', '$', 'w', '0'], ['R', '$', 'w', '0'], ['D', '$', 'g', '0'], ['R', '$', 'g', '0'], ['H', '$', 'g', '0'], ['J', '$', 'g', '0'], ['S', '$', 'b', '0'], ['A', '$', 'b', '0'], ['E', '$', 'b', '0'], ['R', '$', 'b', '0'], ['E', '$', 'b', '0'], ['E', '$', 'b', '0'], ['S', '$', 'y', '0'], ['S', '$', 'y', '0'], ['S', '$', 'y', '0'], ['R', '$', 'y', '0'], ['E', '$', 'y', '0'], ['R', '$', 'b', '0'], ['L', '$', 'b', '0'], ['D', '$', 'b', '0'], ['S', '$', 'w', '0'], ['T', '$', 'y', '0'], ['M', '$', 'y', '0'], ['L', '$', 'g', '0'], ['R', '$', 'y', '0'], ['J', '$', 'w', '0'], ['B', '$', 'w', '0'], ['D', '$', 'y', '0'], ['G', '$', 'y', '0'], ['D', '$', 'w', '0'], ['S', '$', 'w', '0'], ['A', '$', 'w', '0'], ['J', '$', 'w', '0'], ['R', '$', 'p', '0'], ['N', '$', 'p', '0'], ['H', '$', 'p', '0'], ['G', '$', 'g', '0'], ['S', '$', 'r', '0'], ['A', '$', 'y', '0'], ['T', '$', 'g', '0'], ['B', '$', 'r', '0'], ['G', '$', 'g', '0'], ['I', '$', 'g', '0'], ['K', '$', 'w', '0'], ['B', '$', 'w', '0'], ['M', '$', 'p', '0'], ['M', '$', 'p', '0'], ['J', '$', 'g', '0'], ['N', '$', 'g', '0'], ['J', '$', 'g', '0'], ['T', '$', 'r', '0'], ['I', '$', 'w', '0'], ['B', '$', 'w', '0'], ['A', '$', 'r', '0'], ['A', '$', 'b', '0'], ['J', '$', 'b', '0'], ['E', '$', 'b', '0'], ['A', '$', 'g', '0'], ['T', '$', 'g', '0'], ['J', '$', 'g', '0'], ['M', '$', 'p', '0'], ['J', '$', 'p', '0'], ['L', '$', 'y', '0'], ['L', '$', 'y', '0'], ['D', '$', 'y', '0'], ['T', '$', 'g', '0'], ['J', '$', 'g', '0'], ['D', '$', 'w', '0'], ['M', '$', 'w', '0'], ['R', '$', 'w', '0'], ['L', '$', 'g', '0'], ['O', '$', 'g', '0'], ['M', '$', 'g', '0'], ['E', '$', 'g', '0'], ['M', '$', 'g', '0'], ['L', '$', 'g', '0'], ['M', '$', 'g', '0'], ['L', '$', 'g', '0'], ['G', '$', 'g', '0'], ['M', '$', 'g', '0'], ['E', '$', 'w', '0'], ['H', '$', 'w', '0'], ['P', '$', 'w', '0'], ['L', '$', 'w', '0'], ['E', '$', 'w', '0'], ['D', '$', 'p', '0'], ['S', '$', 'p', '0'], ['S', '$', 'p', '0'], ['E', '$', 'b', '0'], ['M', '$', 'b', '0'], ['C', '$', 'p', '0'], ['T', '$', 'w', '0'], ['J', '$', 'w', '0'], ['C', '$', 'w', '0'], ['P', '$', 'b', '0'], ['K', '$', 'g', '0'], ['M', '$', 'g', '0'], ['M', '$', 'g', '0'], ['I', '$', 'b', '0'], ['J', '$', 'b', '0'], ['J', '$', 'w', '0'], ['R', '$', 'w', '0'], ['D', '$', 'g', '0'], ['R', '$', 'g', '0'], ['H', '$', 'g', '0'], ['J', '$', 'g', '0'], ['S', '$', 'b', '0'], ['A', '$', 'b', '0'], ['E', '$', 'b', '0'], ['R', '$', 'b', '0'], ['E', '$', 'b', '0'], ['E', '$', 'b', '0'], ['S', '$', 'y', '0'], ['S', '$', 'y', '0'], ['S', '$', 'y', '0'], ['R', '$', 'y', '0'], ['E', '$', 'y', '0'], ['R', '$', 'b', '0'], ['L', '$', 'b', '0'], ['D', '$', 'b', '0'], ['S', '$', 'w', '0'], ['T', '$', 'y', '0'], ['M', '$', 'y', '0'], ['L', '$', 'g', '0'], ['R', '$', 'y', '0'], ['J', '$', 'w', '0'], ['B', '$', 'w', '0'], ['D', '$', 'y', '0'], ['G', '$', 'y', '0'], ['D', '$', 'w', '0'], ['S', '$', 'w', '0'], ['A', '$', 'w', '0'], ['J', '$', 'w', '0'], ['R', '$', 'p', '0'], ['N', '$', 'p', '0'], ['H', '$', 'p', '0'], ['G', '$', 'g', '0'], ['S', '$', 'r', '0'], ['A', '$', 'y', '0'], ['T', '$', 'g', '0'], ['B', '$', 'r', '0'], ['G', '$', 'g', '0'], ['I', '$', 'g', '0'], ['K', '$', 'w', '0'], ['B', '$', 'w', '0'], ['M', '$', 'p', '0'], ['M', '$', 'p', '0'], ['J', '$', 'g', '0'], ['N', '$', 'g', '0'], ['J', '$', 'g', '0'], ['T', '$', 'r', '0'], ['I', '$', 'w', '0'], ['B', '$', 'w', '0'], ['A', '$', 'r', '0'], ['A', '$', 'b', '0'], ['J', '$', 'b', '0'], ['E', '$', 'b', '0'], ['A', '$', 'g', '0'], ['T', '$', 'g', '0'], ['J', '$', 'g', '0'], ['M', '$', 'p', '0'], ['J', '$', 'p', '0'], ['L', '$', 'y', '0'], ['L', '$', 'y', '0'], ['D', '$', 'y', '0'], ['T', '$', 'g', '0'], ['J', '$', 'g', '0'], ['D', '$', 'w', '0'], ['M', '$', 'w', '0'], ['R', '$', 'w', '0'], ['L', '$', 'g', '0'], ['O', '$', 'g', '0'], ['M', '$', 'g', '0'], ['E', '$', 'g', '0'], ['M', '$', 'g', '0'], ['L', '$', 'g', '0'], ['M', '$', 'g', '0'], ['L', '$', 'g', '0'], ['G', '$', 'g', '0'], ['M', '$', 'g', '0'], ['E', '$', 'w', '0'], ['H', '$', 'w', '0'], ['P', '$', 'w', '0'], ['L', '$', 'w', '0'], ['E', '$', 'w', '0'], ['D', '$', 'p', '0'], ['S', '$', 'p', '0'], ['S', '$', 'p', '0'], ['E', '$', 'b', '0'], ['M', '$', 'b', '0'], ['C', '$', 'p', '0'], ['T', '$', 'w', '0'], ['J', '$', 'w', '0'], ['C', '$', 'w', '0'], ['P', '$', 'b', '0'], ['K', '$', 'g', '0'], ['M', '$', 'g', '0'], ['M', '$', 'g', '0'], ['I', '$', 'b', '0'], ['J', '$', 'b', '0'], ['J', '$', 'w', '0'], ['R', '$', 'w', '0'], ['D', '$', 'g', '0'], ['R', '$', 'g', '0'], ['H', '$', 'g', '0'], ['J', '$', 'g', '0'], ['S', '$', 'b', '0'], ['A', '$', 'b', '0'], ['E', '$', 'b', '0'], ['R', '$', 'b', '0'], ['E', '$', 'b', '0'], ['E', '$', 'b', '0'], ['S', '$', 'y', '0'], ['S', '$', 'y', '0'], ['S', '$', 'y', '0'], ['R', '$', 'y', '0'], ['E', '$', 'y', '0'], ['R', '$', 'b', '0'], ['L', '$', 'b', '0'], ['D', '$', 'b', '0'], ['S', '$', 'w', '0'], ['T', '$', 'y', '0'], ['M', '$', 'y', '0'], ['L', '$', 'g', '0'], ['R', '$', 'y', '0'], ['J', '$', 'w', '0'], ['B', '$', 'w', '0'], ['D', '$', 'y', '0'], ['G', '$', 'y', '0'], ['D', '$', 'w', '0'], ['S', '$', 'w', '0'], ['A', '$', 'w', '0'], ['J', '$', 'w', '0'], ['R', '$', 'p', '0'], ['N', '$', 'p', '0'], ['H', '$', 'p', '0'], ['G', '$', 'g', '0'], ['S', '$', 'r', '0'], ['A', '$', 'y', '0'], ['T', '$', 'g', '0'], ['B', '$', 'r', '0'], ['G', '$', 'g', '0'], ['I', '$', 'g', '0'], ['K', '$', 'w', '0'], ['B', '$', 'w', '0'], ['M', '$', 'p', '0'], ['M', '$', 'p', '0'], ['J', '$', 'g', '0'], ['N', '$', 'g', '0'], ['J', '$', 'g', '0'], ['T', '$', 'r', '0'], ['I', '$', 'w', '0'], ['B', '$', 'w', '0'], ['A', '$', 'r', '0'], ['A', '$', 'b', '0'], ['J', '$', 'b', '0'], ['E', '$', 'b', '0'], ['A', '$', 'g', '0'], ['T', '$', 'g', '0'], ['J', '$', 'g', '0'], ['M', '$', 'p', '0'], ['J', '$', 'p', '0'], ['L', '$', 'y', '0'], ['L', '$', 'y', '0'], ['D', '$', 'y', '0'], ['T', '$', 'g', '0'], ['J', '$', 'g', '0'], ['D', '$', 'w', '0'], ['M', '$', 'w', '0'], ['R', '$', 'w', '0'], ['L', '$', 'g', '0'], ['O', '$', 'g', '0'], ['M', '$', 'g', '0'], ['E', '$', 'g', '0'], ['M', '$', 'g', '0'], ['L', '$', 'g', '0'], ['M', '$', 'g', '0'], ['L', '$', 'g', '0'], ['G', '$', 'g', '0'], ['M', '$', 'g', '0'], ['E', '$', 'w', '0'], ['H', '$', 'w', '0'], ['P', '$', 'w', '0'], ['L', '$', 'w', '0'], ['E', '$', 'w', '0'], ['D', '$', 'p', '0'], ['S', '$', 'p', '0'], ['S', '$', 'p', '0'], ['E', '$', 'b', '0'], ['M', '$', 'b', '0'], ['C', '$', 'p', '0'], ['T', '$', 'w', '0'], ['J', '$', 'w', '0'], ['C', '$', 'w', '0'], ['P', '$', 'b', '0'], ['K', '$', 'g', '0'], ['M', '$', 'g', '0'], ['M', '$', 'g', '0'], ['I', '$', 'b', '0'], ['J', '$', 'b', '0'], ['J', '$', 'w', '0'], ['R', '$', 'w', '0'], ['D', '$', 'g', '0'], ['R', '$', 'g', '0'], ['H', '$', 'g', '0'], ['J', '$', 'g', '0'], ['S', '$', 'b', '0'], ['A', '$', 'b', '0'], ['E', '$', 'b', '0'], ['R', '$', 'b', '0'], ['E', '$', 'b', '0'], ['E', '$', 'b', '0'], ['S', '$', 'y', '0'], ['S', '$', 'y', '0'], ['S', '$', 'y', '0'], ['R', '$', 'y', '0'], ['E', '$', 'y', '0'], ['R', '$', 'b', '0'], ['L', '$', 'b', '0'], ['D', '$', 'b', '0'], ['S', '$', 'w', '0'], ['T', '$', 'y', '0'], ['M', '$', 'y', '0'], ['L', '$', 'g', '0'], ['R', '$', 'y', '0'], ['J', '$', 'w', '0'], ['B', '$', 'w', '0'], ['D', '$', 'y', '0'], ['G', '$', 'y', '0'], ['D', '$', 'w', '0'], ['S', '$', 'w', '0'], ['A', '$', 'w', '0'], ['J', '$', 'w', '0'], ['R', '$', 'p', '0'], ['N', '$', 'p', '0'], ['H', '$', 'p', '0'], ['G', '$', 'g', '0'], ['S', '$', 'r', '0'], ['A', '$', 'y', '0'], ['T', '$', 'g', '0'], ['B', '$', 'r', '0'], ['G', '$', 'g', '0'], ['I', '$', 'g', '0'], ['K', '$', 'w', '0'], ['B', '$', 'w', '0'], ['M', '$', 'p', '0'], ['M', '$', 'p', '0'], ['J', '$', 'g', '0'], ['N', '$', 'g', '0'], ['J', '$', 'g', '0'], ['T', '$', 'r', '0'], ['I', '$', 'w', '0'], ['B', '$', 'w', '0'], ['A', '$', 'r', '0'], ['A', '$', 'b', '0'], ['J', '$', 'b', '0'], ['E', '$', 'b', '0'], ['A', '$', 'g', '0'], ['T', '$', 'g', '0'], ['J', '$', 'g', '0'], ['M', '$', 'p', '0'], ['J', '$', 'p', '0'], ['L', '$', 'y', '0'], ['L', '$', 'y', '0'], ['D', '$', 'y', '0'], ['T', '$', 'g', '0'], ['J', '$', 'g', '0'], ['D', '$', 'w', '0'], ['M', '$', 'w', '0'], ['R', '$', 'w', '0'], ['L', '$', 'g', '0'], ['O', '$', 'g', '0'], ['M', '$', 'g', '0'], ['E', '$', 'g', '0'], ['M', '$', 'g', '0'], ['L', '$', 'g', '0'], ['M', '$', 'g', '0'], ['L', '$', 'g', '0'], ['G', '$', 'g', '0'], ['M', '$', 'g', '0'], ['E', '$', 'w', '0'], ['H', '$', 'w', '0'], ['P', '$', 'w', '0'], ['L', '$', 'w', '0'], ['E', '$', 'w', '0'], ['D', '$', 'p', '0'], ['S', '$', 'p', '0'], ['S', '$', 'p', '0'], ['E', '$', 'b', '0'], ['M', '$', 'b', '0'], ['C', '$', 'p', '0'], ['T', '$', 'w', '0'], ['J', '$', 'w', '0'], ['C', '$', 'w', '0'], ['P', '$', 'b', '0'], ['K', '$', 'g', '0'], ['M', '$', 'g', '0'], ['M', '$', 'g', '0'], ['I', '$', 'b', '0'], ['J', '$', 'b', '0'], ['J', '$', 'w', '0'], ['R', '$', 'w', '0'], ['D', '$', 'g', '0'], ['R', '$', 'g', '0'], ['H', '$', 'g', '0'], ['J', '$', 'g', '0'], ['S', '$', 'b', '0'], ['A', '$', 'b', '0'], ['E', '$', 'b', '0'], ['R', '$', 'b', '0'], ['E', '$', 'b', '0'], ['E', '$', 'b', '0'], ['S', '$', 'y', '0'], ['S', '$', 'y', '0'], ['S', '$', 'y', '0'], ['R', '$', 'y', '0'], ['E', '$', 'y', '0'], ['R', '$', 'b', '0'], ['L', '$', 'b', '0'], ['D', '$', 'b', '0'], ['S', '$', 'w', '0'], ['T', '$', 'y', '0'], ['M', '$', 'y', '0'], ['L', '$', 'g', '0'], ['R', '$', 'y', '0'], ['J', '$', 'w', '0'], ['B', '$', 'w', '0'], ['D', '$', 'y', '0'], ['G', '$', 'y', '0'], ['D', '$', 'w', '0'], ['S', '$', 'w', '0'], ['A', '$', 'w', '0'], ['J', '$', 'w', '0'], ['R', '$', 'p', '0'], ['N', '$', 'p', '0'], ['H', '$', 'p', '0'], ['G', '$', 'g', '0'], ['S', '$', 'r', '0'], ['A', '$', 'y', '0'], ['T', '$', 'g', '0'], ['B', '$', 'r', '0'], ['G', '$', 'g', '0'], ['I', '$', 'g', '0'], ['K', '$', 'w', '0'], ['B', '$', 'w', '0'], ['M', '$', 'p', '0'], ['M', '$', 'p', '0'], ['J', '$', 'g', '0'], ['N', '$', 'g', '0'], ['J', '$', 'g', '0'], ['T', '$', 'r', '0'], ['I', '$', 'w', '0'], ['B', '$', 'w', '0'], ['A', '$', 'r', '0'], ['A', '$', 'b', '0'], ['J', '$', 'b', '0'], ['E', '$', 'b', '0'], ['A', '$', 'g', '0'], ['T', '$', 'g', '0'], ['J', '$', 'g', '0'], ['M', '$', 'p', '0'], ['J', '$', 'p', '0'], ['L', '$', 'y', '0'], ['L', '$', 'y', '0'], ['D', '$', 'y', '0'], ['T', '$', 'g', '0'], ['J', '$', 'g', '0'], ['D', '$', 'w', '0'], ['M', '$', 'w', '0'], ['R', '$', 'w', '0'], ['L', '$', 'g', '0'], ['O', '$', 'g', '0'], ['M', '$', 'g', '0'], ['E', '$', 'g', '0'], ['M', '$', 'g', '0'], ['L', '$', 'g', '0'], ['M', '$', 'g', '0'], ['L', '$', 'g', '0'], ['G', '$', 'g', '0'], ['M', '$', 'g', '0'], ['E', '$', 'w', '0'], ['H', '$', 'w', '0'], ['P', '$', 'w', '0'], ['L', '$', 'w', '0'], ['E', '$', 'w', '0'], ['D', '$', 'p', '0'], ['S', '$', 'p', '0'], ['S', '$', 'p', '0'], ['E', '$', 'b', '0'], ['M', '$', 'b', '0'], ['C', '$', 'p', '0'], ['T', '$', 'w', '0'], ['J', '$', 'w', '0'], ['C', '$', 'w', '0'], ['P', '$', 'b', '0'], ['K', '$', 'g', '0'], ['M', '$', 'g', '0'], ['M', '$', 'g', '0'], ['I', '$', 'b', '0'], ['J', '$', 'b', '0'], ['J', '$', 'w', '0'], ['R', '$', 'w', '0'], ['D', '$', 'g', '0'], ['R', '$', 'g', '0'], ['H', '$', 'g', '0'], ['J', '$', 'g', '0'], ['S', '$', 'b', '0'], ['A', '$', 'b', '0'], ['E', '$', 'b', '0'], ['R', '$', 'b', '0'], ['E', '$', 'b', '0'], ['E', '$', 'b', '0'], ['S', '$', 'y', '0'], ['S', '$', 'y', '0'], ['S', '$', 'y', '0'], ['R', '$', 'y', '0'], ['E', '$', 'y', '0'], ['R', '$', 'b', '0'], ['L', '$', 'b', '0'], ['D', '$', 'b', '0'], ['S', '$', 'w', '0'], ['T', '$', 'y', '0'], ['M', '$', 'y', '0'], ['L', '$', 'g', '0'], ['R', '$', 'y', '0'], ['J', '$', 'w', '0'], ['B', '$', 'w', '0'], ['D', '$', 'y', '0'], ['G', '$', 'y', '0'], ['D', '$', 'w', '0'], ['S', '$', 'w', '0'], ['A', '$', 'w', '0'], ['J', '$', 'w', '0'], ['R', '$', 'p', '0'], ['N', '$', 'p', '0'], ['H', '$', 'p', '0'], ['G', '$', 'g', '0'], ['S', '$', 'r', '0'], ['A', '$', 'y', '0'], ['T', '$', 'g', '0'], ['B', '$', 'r', '0'], ['G', '$', 'g', '0'], ['I', '$', 'g', '0'], ['K', '$', 'w', '0'], ['B', '$', 'w', '0'], ['M', '$', 'p', '0'], ['M', '$', 'p', '0'], ['J', '$', 'g', '0'], ['N', '$', 'g', '0'], ['J', '$', 'g', '0'], ['T', '$', 'r', '0'], ['I', '$', 'w', '0'], ['B', '$', 'w', '0'], ['A', '$', 'r', '0'], ['A', '$', 'b', '0'], ['J', '$', 'b', '0'], ['E', '$', 'b', '0'], ['A', '$', 'g', '0'], ['T', '$', 'g', '0'], ['J', '$', 'g', '0'], ['M', '$', 'p', '0'], ['J', '$', 'p', '0'], ['L', '$', 'y', '0'], ['L', '$', 'y', '0'], ['D', '$', 'y', '0'], ['T', '$', 'g', '0'], ['J', '$', 'g', '0'], ['D', '$', 'w', '0'], ['M', '$', 'w', '0'], ['R', '$', 'w', '0'], ['L', '$', 'g', '0'], ['O', '$', 'g', '0'], ['M', '$', 'g', '0'], ['E', '$', 'g', '0'], ['M', '$', 'g', '0'], ['L', '$', 'g', '0'], ['M', '$', 'g', '0'], ['L', '$', 'g', '0'], ['G', '$', 'g', '0'], ['M', '$', 'g', '0'], ['E', '$', 'w', '0'], ['H', '$', 'w', '0'], ['P', '$', 'w', '0'], ['L', '$', 'w', '0'], ['E', '$', 'w', '0'], ['D', '$', 'p', '0'], ['S', '$', 'p', '0'], ['S', '$', 'p', '0'], ['E', '$', 'b', '0'], ['M', '$', 'b', '0'], ['C', '$', 'p', '0'], ['T', '$', 'w', '0'], ['J', '$', 'w', '0'], ['C', '$', 'w', '0'], ['P', '$', 'b', '0'], ['K', '$', 'g', '0'], ['M', '$', 'g', '0'], ['M', '$', 'g', '0'], ['I', '$', 'b', '0'], ['J', '$', 'b', '0'], ['J', '$', 'w', '0'], ['R', '$', 'w', '0'], ['D', '$', 'g', '0'], ['R', '$', 'g', '0'], ['H', '$', 'g', '0'], ['J', '$', 'g', '0'], ['S', '$', 'b', '0'], ['A', '$', 'b', '0'], ['E', '$', 'b', '0'], ['R', '$', 'b', '0'], ['E', '$', 'b', '0'], ['E', '$', 'b', '0'], ['S', '$', 'y', '0'], ['S', '$', 'y', '0'], ['S', '$', 'y', '0'], ['R', '$', 'y', '0'], ['E', '$', 'y', '0'], ['R', '$', 'b', '0'], ['L', '$', 'b', '0'], ['D', '$', 'b', '0'], ['S', '$', 'w', '0'], ['T', '$', 'y', '0'], ['M', '$', 'y', '0'], ['L', '$', 'g', '0'], ['R', '$', 'y', '0'], ['J', '$', 'w', '0'], ['B', '$', 'w', '0'], ['D', '$', 'y', '0'], ['G', '$', 'y', '0'], ['D', '$', 'w', '0'], ['S', '$', 'w', '0'], ['A', '$', 'w', '0'], ['J', '$', 'w', '0'], ['R', '$', 'p', '0'], ['N', '$', 'p', '0'], ['H', '$', 'p', '0'], ['G', '$', 'g', '0'], ['S', '$', 'r', '0'], ['A', '$', 'y', '0'], ['T', '$', 'g', '0'], ['B', '$', 'r', '0'], ['G', '$', 'g', '0'], ['I', '$', 'g', '0'], ['K', '$', 'w', '0'], ['B', '$', 'w', '0'], ['M', '$', 'p', '0'], ['M', '$', 'p', '0'], ['J', '$', 'g', '0'], ['N', '$', 'g', '0'], ['J', '$', 'g', '0'], ['T', '$', 'r', '0'], ['I', '$', 'w', '0'], ['B', '$', 'w', '0'], ['A', '$', 'r', '0'], ['A', '$', 'b', '0'], ['J', '$', 'b', '0'], ['E', '$', 'b', '0'], ['A', '$', 'g', '0'], ['T', '$', 'g', '0'], ['J', '$', 'g', '0'], ['M', '$', 'p', '0'], ['J', '$', 'p', '0'], ['L', '$', 'y', '0'], ['L', '$', 'y', '0'], ['D', '$', 'y', '0'], ['T', '$', 'g', '0'], ['J', '$', 'g', '0'], ['D', '$', 'w', '0'], ['M', '$', 'w', '0'], ['R', '$', 'w', '0'], ['L', '$', 'g', '0'], ['O', '$', 'g', '0'], ['M', '$', 'g', '0'], ['E', '$', 'g', '0'], ['M', '$', 'g', '0'], ['L', '$', 'g', '0'], ['M', '$', 'g', '0'], ['L', '$', 'g', '0'], ['G', '$', 'g', '0'], ['M', '$', 'g', '0'], 'Edith Mcbride', 'Herbert Tran', 'Paul Clarke', 'Lucille Caldwell', 'Eduardo George', 'Danny Mclaughlin', 'Stacy Vargas', 'Shaun Brock', 'Erick Harper', 'Michelle Howell', 'Carroll Boyd', 'Teresa Carter', 'Jacob Kennedy', 'Craig Chambers', 'Peggy Bell', 'Kenneth Cunningham', 'Marvin Morgan', 'Marjorie Russell', 'Israel Cummings', 'June Doyle', 'Jaime Buchanan', 'Rhonda Farmer', 'Darren Mckenzie', 'Rufus Malone', 'Hubert Miles', 'Joseph Bridges', 'Sergio Murphy', 'Audrey Ferguson', 'Edna Williams', 'Randy Fleming', 'Elisa Hart', 'Ernesto Hunt', 'Shannon Chavez', 'Sammy Cain', 'Steven Reeves', 'Ruben Jones', 'Essie Hansen', 'Rene Hardy', 'Lucy Snyder', 'Dallas Obrien', 'Stacey Payne', 'Tanya Cox', 'Melody Moran', 'Louise Becker', 'Ryan Webster', 'Justin Blake', 'Beverly Baldwin', 'Dale Brady', 'Guadalupe Potter', 'Desiree Butler', 'Sonja Barnett', 'Angelica Garza', 'Jamie Welch', 'Rex Hudson', 'Nadine Gibbs', 'Hannah Pratt', 'Gayle Richards', 'Stanley Holland', 'Anna Dean', 'Terrance Saunders', 'Brandi Zimmerman', 'Guadalupe Freeman', 'Irving Patterson', 'Karl Ross', 'Brandy Cortez', 'Mamie Riley', 'Mike Thornton', 'Jamie Vaughn', 'Noah Day', 'Josephine Keller', 'Tracey Wolfe', 'Ignacio Parks', 'Beatrice Newman', 'Andre Norris', 'Albert Lewis', 'Javier Bailey', 'Everett Lyons', 'Abraham Maxwell', 'Traci Craig', 'Jeffrey Jenkins', 'Merle Wilson', 'Janis Franklin', 'Leonard Guerrero', 'Lana Sanchez', 'Donna Ball', 'Terrell Barber', 'Jody Flores', 'Daryl Herrera', 'Miguel Mcguire', 'Rogelio Gonzalez', 'Lora Hammond', 'Owen Ward', 'Malcolm Morales', 'Eric Mcdaniel', 'Madeline Estrada', 'Leticia Manning', 'Mario Wallace', 'Lewis Glover', 'Gail Phelps', 'Myrtle Morris', 'Edith Mcbride', 'Herbert Tran', 'Paul Clarke', 'Lucille Caldwell', 'Eduardo George', 'Danny Mclaughlin', 'Stacy Vargas', 'Shaun Brock', 'Erick Harper', 'Michelle Howell', 'Carroll Boyd', 'Teresa Carter', 'Jacob Kennedy', 'Craig Chambers', 'Peggy Bell', 'Kenneth Cunningham', 'Marvin Morgan', 'Marjorie Russell', 'Israel Cummings', 'June Doyle', 'Jaime Buchanan', 'Rhonda Farmer', 'Darren Mckenzie', 'Rufus Malone', 'Hubert Miles', 'Joseph Bridges', 'Sergio Murphy', 'Audrey Ferguson', 'Edna Williams', 'Randy Fleming', 'Elisa Hart', 'Ernesto Hunt', 'Shannon Chavez', 'Sammy Cain', 'Steven Reeves', 'Ruben Jones', 'Essie Hansen', 'Rene Hardy', 'Lucy Snyder', 'Dallas Obrien', 'Stacey Payne', 'Tanya Cox', 'Melody Moran', 'Louise Becker', 'Ryan Webster', 'Justin Blake', 'Beverly Baldwin', 'Dale Brady', 'Guadalupe Potter', 'Desiree Butler', 'Sonja Barnett', 'Angelica Garza', 'Jamie Welch', 'Rex Hudson', 'Nadine Gibbs', 'Hannah Pratt', 'Gayle Richards', 'Stanley Holland', 'Anna Dean', 'Terrance Saunders', 'Brandi Zimmerman', 'Guadalupe Freeman', 'Irving Patterson', 'Karl Ross', 'Brandy Cortez', 'Mamie Riley', 'Mike Thornton', 'Jamie Vaughn', 'Noah Day', 'Josephine Keller', 'Tracey Wolfe', 'Ignacio Parks', 'Beatrice Newman', 'Andre Norris', 'Albert Lewis', 'Javier Bailey', 'Everett Lyons', 'Abraham Maxwell', 'Traci Craig', 'Jeffrey Jenkins', 'Merle Wilson', 'Janis Franklin', 'Leonard Guerrero', 'Lana Sanchez', 'Donna Ball', 'Terrell Barber', 'Jody Flores', 'Daryl Herrera', 'Miguel Mcguire', 'Rogelio Gonzalez', 'Lora Hammond', 'Owen Ward', 'Malcolm Morales', 'Eric Mcdaniel', 'Madeline Estrada', 'Leticia Manning', 'Mario Wallace', 'Lewis Glover', 'Gail Phelps', 'Myrtle Morris', 'Edith Mcbride', 'Herbert Tran', 'Paul Clarke', 'Lucille Caldwell', 'Eduardo George', 'Danny Mclaughlin', 'Stacy Vargas', 'Shaun Brock', 'Erick Harper', 'Michelle Howell', 'Carroll Boyd', 'Teresa Carter', 'Jacob Kennedy', 'Craig Chambers', 'Peggy Bell', 'Kenneth Cunningham', 'Marvin Morgan', 'Marjorie Russell', 'Israel Cummings', 'June Doyle', 'Jaime Buchanan', 'Rhonda Farmer', 'Darren Mckenzie', 'Rufus Malone', 'Hubert Miles', 'Joseph Bridges', 'Sergio Murphy', 'Audrey Ferguson', 'Edna Williams', 'Randy Fleming', 'Elisa Hart', 'Ernesto Hunt', 'Shannon Chavez', 'Sammy Cain', 'Steven Reeves', 'Ruben Jones', 'Essie Hansen', 'Rene Hardy', 'Lucy Snyder', 'Dallas Obrien', 'Stacey Payne', 'Tanya Cox', 'Melody Moran', 'Louise Becker', 'Ryan Webster', 'Justin Blake', 'Beverly Baldwin', 'Dale Brady', 'Guadalupe Potter', 'Desiree Butler', 'Sonja Barnett', 'Angelica Garza', 'Jamie Welch', 'Rex Hudson', 'Nadine Gibbs', 'Hannah Pratt', 'Gayle Richards', 'Stanley Holland', 'Anna Dean', 'Terrance Saunders', 'Brandi Zimmerman', 'Guadalupe Freeman', 'Irving Patterson', 'Karl Ross', 'Brandy Cortez', 'Mamie Riley', 'Mike Thornton', 'Jamie Vaughn', 'Noah Day', 'Josephine Keller', 'Tracey Wolfe', 'Ignacio Parks', 'Beatrice Newman', 'Andre Norris', 'Albert Lewis', 'Javier Bailey', 'Everett Lyons', 'Abraham Maxwell', 'Traci Craig', 'Jeffrey Jenkins', 'Merle Wilson', 'Janis Franklin', 'Leonard Guerrero', 'Lana Sanchez', 'Donna Ball', 'Terrell Barber', 'Jody Flores', 'Daryl Herrera', 'Miguel Mcguire', 'Rogelio Gonzalez', 'Lora Hammond', 'Owen Ward', 'Malcolm Morales', 'Eric Mcdaniel', 'Madeline Estrada', 'Leticia Manning', 'Mario Wallace', 'Lewis Glover', 'Gail Phelps', 'Myrtle Morris', 'Edith Mcbride', 'Herbert Tran', 'Paul Clarke', 'Lucille Caldwell', 'Eduardo George', 'Danny Mclaughlin', 'Stacy Vargas', 'Shaun Brock', 'Erick Harper', 'Michelle Howell', 'Carroll Boyd', 'Teresa Carter', 'Jacob Kennedy', 'Craig Chambers', 'Peggy Bell', 'Kenneth Cunningham', 'Marvin Morgan', 'Marjorie Russell', 'Israel Cummings', 'June Doyle', 'Jaime Buchanan', 'Rhonda Farmer', 'Darren Mckenzie', 'Rufus Malone', 'Hubert Miles', 'Joseph Bridges', 'Sergio Murphy', 'Audrey Ferguson', 'Edna Williams', 'Randy Fleming', 'Elisa Hart', 'Ernesto Hunt', 'Shannon Chavez', 'Sammy Cain', 'Steven Reeves', 'Ruben Jones', 'Essie Hansen', 'Rene Hardy', 'Lucy Snyder', 'Dallas Obrien', 'Stacey Payne', 'Tanya Cox', 'Melody Moran', 'Louise Becker', 'Ryan Webster', 'Justin Blake', 'Beverly Baldwin', 'Dale Brady', 'Guadalupe Potter', 'Desiree Butler', 'Sonja Barnett', 'Angelica Garza', 'Jamie Welch', 'Rex Hudson', 'Nadine Gibbs', 'Hannah Pratt', 'Gayle Richards', 'Stanley Holland', 'Anna Dean', 'Terrance Saunders', 'Brandi Zimmerman', 'Guadalupe Freeman', 'Irving Patterson', 'Karl Ross', 'Brandy Cortez', 'Mamie Riley', 'Mike Thornton', 'Jamie Vaughn', 'Noah Day', 'Josephine Keller', 'Tracey Wolfe', 'Ignacio Parks', 'Beatrice Newman', 'Andre Norris', 'Albert Lewis', 'Javier Bailey', 'Everett Lyons', 'Abraham Maxwell', 'Traci Craig', 'Jeffrey Jenkins', 'Merle Wilson', 'Janis Franklin', 'Leonard Guerrero', 'Lana Sanchez', 'Donna Ball', 'Terrell Barber', 'Jody Flores', 'Daryl Herrera', 'Miguel Mcguire', 'Rogelio Gonzalez', 'Lora Hammond', 'Owen Ward', 'Malcolm Morales', 'Eric Mcdaniel', 'Madeline Estrada', 'Leticia Manning', 'Mario Wallace', 'Lewis Glover', 'Gail Phelps', 'Myrtle Morris', 'Edith Mcbride', 'Herbert Tran', 'Paul Clarke', 'Lucille Caldwell', 'Eduardo George', 'Danny Mclaughlin', 'Stacy Vargas', 'Shaun Brock', 'Erick Harper', 'Michelle Howell', 'Carroll Boyd', 'Teresa Carter', 'Jacob Kennedy', 'Craig Chambers', 'Peggy Bell', 'Kenneth Cunningham', 'Marvin Morgan', 'Marjorie Russell', 'Israel Cummings', 'June Doyle', 'Jaime Buchanan', 'Rhonda Farmer', 'Darren Mckenzie', 'Rufus Malone', 'Hubert Miles', 'Joseph Bridges', 'Sergio Murphy', 'Audrey Ferguson', 'Edna Williams', 'Randy Fleming', 'Elisa Hart', 'Ernesto Hunt', 'Shannon Chavez', 'Sammy Cain', 'Steven Reeves', 'Ruben Jones', 'Essie Hansen', 'Rene Hardy', 'Lucy Snyder', 'Dallas Obrien', 'Stacey Payne', 'Tanya Cox', 'Melody Moran', 'Louise Becker', 'Ryan Webster', 'Justin Blake', 'Beverly Baldwin', 'Dale Brady', 'Guadalupe Potter', 'Desiree Butler', 'Sonja Barnett', 'Angelica Garza', 'Jamie Welch', 'Rex Hudson', 'Nadine Gibbs', 'Hannah Pratt', 'Gayle Richards', 'Stanley Holland', 'Anna Dean', 'Terrance Saunders', 'Brandi Zimmerman', 'Guadalupe Freeman', 'Irving Patterson', 'Karl Ross', 'Brandy Cortez', 'Mamie Riley', 'Mike Thornton', 'Jamie Vaughn', 'Noah Day', 'Josephine Keller', 'Tracey Wolfe', 'Ignacio Parks', 'Beatrice Newman', 'Andre Norris', 'Albert Lewis', 'Javier Bailey', 'Everett Lyons', 'Abraham Maxwell', 'Traci Craig', 'Jeffrey Jenkins', 'Merle Wilson', 'Janis Franklin', 'Leonard Guerrero', 'Lana Sanchez', 'Donna Ball', 'Terrell Barber', 'Jody Flores', 'Daryl Herrera', 'Miguel Mcguire', 'Rogelio Gonzalez', 'Lora Hammond', 'Owen Ward', 'Malcolm Morales', 'Eric Mcdaniel', 'Madeline Estrada', 'Leticia Manning', 'Mario Wallace', 'Lewis Glover', 'Gail Phelps', 'Myrtle Morris', 'Edith Mcbride', 'Herbert Tran', 'Paul Clarke', 'Lucille Caldwell', 'Eduardo George', 'Danny Mclaughlin', 'Stacy Vargas', 'Shaun Brock', 'Erick Harper', 'Michelle Howell', 'Carroll Boyd', 'Teresa Carter', 'Jacob Kennedy', 'Craig Chambers', 'Peggy Bell', 'Kenneth Cunningham', 'Marvin Morgan', 'Marjorie Russell', 'Israel Cummings', 'June Doyle', 'Jaime Buchanan', 'Rhonda Farmer', 'Darren Mckenzie', 'Rufus Malone', 'Hubert Miles', 'Joseph Bridges', 'Sergio Murphy', 'Audrey Ferguson', 'Edna Williams', 'Randy Fleming', 'Elisa Hart', 'Ernesto Hunt', 'Shannon Chavez', 'Sammy Cain', 'Steven Reeves', 'Ruben Jones', 'Essie Hansen', 'Rene Hardy', 'Lucy Snyder', 'Dallas Obrien', 'Stacey Payne', 'Tanya Cox', 'Melody Moran', 'Louise Becker', 'Ryan Webster', 'Justin Blake', 'Beverly Baldwin', 'Dale Brady', 'Guadalupe Potter', 'Desiree Butler', 'Sonja Barnett', 'Angelica Garza', 'Jamie Welch', 'Rex Hudson', 'Nadine Gibbs', 'Hannah Pratt', 'Gayle Richards', 'Stanley Holland', 'Anna Dean', 'Terrance Saunders', 'Brandi Zimmerman', 'Guadalupe Freeman', 'Irving Patterson', 'Karl Ross', 'Brandy Cortez', 'Mamie Riley', 'Mike Thornton', 'Jamie Vaughn', 'Noah Day', 'Josephine Keller', 'Tracey Wolfe', 'Ignacio Parks', 'Beatrice Newman', 'Andre Norris', 'Albert Lewis', 'Javier Bailey', 'Everett Lyons', 'Abraham Maxwell', 'Traci Craig', 'Jeffrey Jenkins', 'Merle Wilson', 'Janis Franklin', 'Leonard Guerrero', 'Lana Sanchez', 'Donna Ball', 'Terrell Barber', 'Jody Flores', 'Daryl Herrera', 'Miguel Mcguire', 'Rogelio Gonzalez', 'Lora Hammond', 'Owen Ward', 'Malcolm Morales', 'Eric Mcdaniel', 'Madeline Estrada', 'Leticia Manning', 'Mario Wallace', 'Lewis Glover', 'Gail Phelps', 'Myrtle Morris', 'Edith Mcbride', 'Herbert Tran', 'Paul Clarke', 'Lucille Caldwell', 'Eduardo George', 'Danny Mclaughlin', 'Stacy Vargas', 'Shaun Brock', 'Erick Harper', 'Michelle Howell', 'Carroll Boyd', 'Teresa Carter', 'Jacob Kennedy', 'Craig Chambers', 'Peggy Bell', 'Kenneth Cunningham', 'Marvin Morgan', 'Marjorie Russell', 'Israel Cummings', 'June Doyle', 'Jaime Buchanan', 'Rhonda Farmer', 'Darren Mckenzie', 'Rufus Malone', 'Hubert Miles', 'Joseph Bridges', 'Sergio Murphy', 'Audrey Ferguson', 'Edna Williams', 'Randy Fleming', 'Elisa Hart', 'Ernesto Hunt', 'Shannon Chavez', 'Sammy Cain', 'Steven Reeves', 'Ruben Jones', 'Essie Hansen', 'Rene Hardy', 'Lucy Snyder', 'Dallas Obrien', 'Stacey Payne', 'Tanya Cox', 'Melody Moran', 'Louise Becker', 'Ryan Webster', 'Justin Blake', 'Beverly Baldwin', 'Dale Brady', 'Guadalupe Potter', 'Desiree Butler', 'Sonja Barnett', 'Angelica Garza', 'Jamie Welch', 'Rex Hudson', 'Nadine Gibbs', 'Hannah Pratt', 'Gayle Richards', 'Stanley Holland', 'Anna Dean', 'Terrance Saunders', 'Brandi Zimmerman', 'Guadalupe Freeman', 'Irving Patterson', 'Karl Ross', 'Brandy Cortez', 'Mamie Riley', 'Mike Thornton', 'Jamie Vaughn', 'Noah Day', 'Josephine Keller', 'Tracey Wolfe', 'Ignacio Parks', 'Beatrice Newman', 'Andre Norris', 'Albert Lewis', 'Javier Bailey', 'Everett Lyons', 'Abraham Maxwell', 'Traci Craig', 'Jeffrey Jenkins', 'Merle Wilson', 'Janis Franklin', 'Leonard Guerrero', 'Lana Sanchez', 'Donna Ball', 'Terrell Barber', 'Jody Flores', 'Daryl Herrera', 'Miguel Mcguire', 'Rogelio Gonzalez', 'Lora Hammond', 'Owen Ward', 'Malcolm Morales', 'Eric Mcdaniel', 'Madeline Estrada', 'Leticia Manning', 'Mario Wallace', 'Lewis Glover', 'Gail Phelps', 'Myrtle Morris', 'Edith Mcbride', 'Herbert Tran', 'Paul Clarke', 'Lucille Caldwell', 'Eduardo George', 'Danny Mclaughlin', 'Stacy Vargas', 'Shaun Brock', 'Erick Harper', 'Michelle Howell', 'Carroll Boyd', 'Teresa Carter', 'Jacob Kennedy', 'Craig Chambers', 'Peggy Bell', 'Kenneth Cunningham', 'Marvin Morgan', 'Marjorie Russell', 'Israel Cummings', 'June Doyle', 'Jaime Buchanan', 'Rhonda Farmer', 'Darren Mckenzie', 'Rufus Malone', 'Hubert Miles', 'Joseph Bridges', 'Sergio Murphy', 'Audrey Ferguson', 'Edna Williams', 'Randy Fleming', 'Elisa Hart', 'Ernesto Hunt', 'Shannon Chavez', 'Sammy Cain', 'Steven Reeves', 'Ruben Jones', 'Essie Hansen', 'Rene Hardy', 'Lucy Snyder', 'Dallas Obrien', 'Stacey Payne', 'Tanya Cox', 'Melody Moran', 'Louise Becker', 'Ryan Webster', 'Justin Blake', 'Beverly Baldwin', 'Dale Brady', 'Guadalupe Potter', 'Desiree Butler', 'Sonja Barnett', 'Angelica Garza', 'Jamie Welch', 'Rex Hudson', 'Nadine Gibbs', 'Hannah Pratt', 'Gayle Richards', 'Stanley Holland', 'Anna Dean', 'Terrance Saunders', 'Brandi Zimmerman', 'Guadalupe Freeman', 'Irving Patterson', 'Karl Ross', 'Brandy Cortez', 'Mamie Riley', 'Mike Thornton', 'Jamie Vaughn', 'Noah Day', 'Josephine Keller', 'Tracey Wolfe', 'Ignacio Parks', 'Beatrice Newman', 'Andre Norris', 'Albert Lewis', 'Javier Bailey', 'Everett Lyons', 'Abraham Maxwell', 'Traci Craig', 'Jeffrey Jenkins', 'Merle Wilson', 'Janis Franklin', 'Leonard Guerrero', 'Lana Sanchez', 'Donna Ball', 'Terrell Barber', 'Jody Flores', 'Daryl Herrera', 'Miguel Mcguire', 'Rogelio Gonzalez', 'Lora Hammond', 'Owen Ward', 'Malcolm Morales', 'Eric Mcdaniel', 'Madeline Estrada', 'Leticia Manning', 'Mario Wallace', 'Lewis Glover', 'Gail Phelps', 'Myrtle Morris', 'Edith Mcbride', 'Edith Mcbride', 'Herbert Tran', 'Paul Clarke', 'Lucille Caldwell', 'Eduardo George', 'Danny Mclaughlin', 'Stacy Vargas', 'Shaun Brock', 'Erick Harper', 'Michelle Howell', 'Carroll Boyd', 'Teresa Carter', 'Jacob Kennedy', 'Craig Chambers', 'Peggy Bell', 'Kenneth Cunningham', 'Marvin Morgan', 'Marjorie Russell', 'Israel Cummings', 'June Doyle', 'Jaime Buchanan', 'Rhonda Farmer', 'Darren Mckenzie', 'Rufus Malone', 'Hubert Miles', 'Joseph Bridges', 'Sergio Murphy', 'Audrey Ferguson', 'Edna Williams', 'Randy Fleming', 'Elisa Hart', 'Ernesto Hunt', 'Shannon Chavez', 'Sammy Cain', 'Steven Reeves', 'Ruben Jones', 'Essie Hansen', 'Rene Hardy', 'Lucy Snyder', 'Dallas Obrien', 'Stacey Payne', 'Tanya Cox', 'Melody Moran', 'Louise Becker', 'Ryan Webster', 'Justin Blake', 'Beverly Baldwin', 'Dale Brady', 'Guadalupe Potter', 'Desiree Butler', 'Sonja Barnett', 'Angelica Garza', 'Jamie Welch', 'Rex Hudson', 'Nadine Gibbs', 'Hannah Pratt', 'Gayle Richards', 'Stanley Holland', 'Anna Dean', 'Terrance Saunders', 'Brandi Zimmerman', 'Guadalupe Freeman', 'Irving Patterson', 'Karl Ross', 'Brandy Cortez', 'Mamie Riley', 'Mike Thornton', 'Jamie Vaughn', 'Noah Day', 'Josephine Keller', 'Tracey Wolfe', 'Ignacio Parks', 'Beatrice Newman', 'Andre Norris', 'Albert Lewis', 'Javier Bailey', 'Everett Lyons', 'Abraham Maxwell', 'Traci Craig', 'Jeffrey Jenkins', 'Merle Wilson', 'Janis Franklin', 'Leonard Guerrero', 'Lana Sanchez', 'Donna Ball', 'Terrell Barber', 'Jody Flores', 'Daryl Herrera', 'Miguel Mcguire', 'Rogelio Gonzalez', 'Lora Hammond', 'Owen Ward', 'Malcolm Morales', 'Eric Mcdaniel', 'Madeline Estrada', 'Leticia Manning', 'Mario Wallace', 'Lewis Glover', 'Gail Phelps', 'Myrtle Morris', 'Edith Mcbride', 'Herbert Tran', 'Paul Clarke', 'Lucille Caldwell', 'Eduardo George', 'Danny Mclaughlin', 'Stacy Vargas', 'Shaun Brock', 'Erick Harper', 'Michelle Howell', 'Carroll Boyd', 'Teresa Carter', 'Jacob Kennedy', 'Craig Chambers', 'Peggy Bell', 'Kenneth Cunningham', 'Marvin Morgan', 'Marjorie Russell', 'Israel Cummings', 'June Doyle', 'Jaime Buchanan', 'Rhonda Farmer', 'Darren Mckenzie', 'Rufus Malone', 'Hubert Miles', 'Joseph Bridges', 'Sergio Murphy', 'Audrey Ferguson', 'Edna Williams', 'Randy Fleming', 'Elisa Hart', 'Ernesto Hunt', 'Shannon Chavez', 'Sammy Cain', 'Steven Reeves', 'Ruben Jones', 'Essie Hansen', 'Rene Hardy', 'Lucy Snyder', 'Dallas Obrien', 'Stacey Payne', 'Tanya Cox', 'Melody Moran', 'Louise Becker', 'Ryan Webster', 'Justin Blake', 'Beverly Baldwin', 'Dale Brady', 'Guadalupe Potter', 'Desiree Butler', 'Sonja Barnett', 'Angelica Garza', 'Jamie Welch', 'Rex Hudson', 'Nadine Gibbs', 'Hannah Pratt', 'Gayle Richards', 'Stanley Holland', 'Anna Dean', 'Terrance Saunders', 'Brandi Zimmerman', 'Guadalupe Freeman', 'Irving Patterson', 'Karl Ross', 'Brandy Cortez', 'Mamie Riley', 'Mike Thornton', 'Jamie Vaughn', 'Noah Day', 'Josephine Keller', 'Tracey Wolfe', 'Ignacio Parks', 'Beatrice Newman', 'Andre Norris', 'Albert Lewis', 'Javier Bailey', 'Everett Lyons', 'Abraham Maxwell', 'Traci Craig', 'Jeffrey Jenkins', 'Merle Wilson', 'Janis Franklin', 'Leonard Guerrero', 'Lana Sanchez', 'Donna Ball', 'Terrell Barber', 'Jody Flores', 'Daryl Herrera', 'Miguel Mcguire', 'Rogelio Gonzalez', 'Lora Hammond', 'Owen Ward', 'Malcolm Morales', 'Eric Mcdaniel', 'Madeline Estrada', 'Leticia Manning', 'Mario Wallace', 'Lewis Glover', 'Gail Phelps', 'Myrtle Morris', 'Edith Mcbride', 'Herbert Tran', 'Paul Clarke', 'Lucille Caldwell', 'Eduardo George', 'Danny Mclaughlin', 'Stacy Vargas', 'Shaun Brock', 'Erick Harper', 'Michelle Howell', 'Carroll Boyd', 'Teresa Carter', 'Jacob Kennedy', 'Craig Chambers', 'Peggy Bell', 'Kenneth Cunningham', 'Marvin Morgan', 'Marjorie Russell', 'Israel Cummings', 'June Doyle', 'Jaime Buchanan', 'Rhonda Farmer', 'Darren Mckenzie', 'Rufus Malone', 'Hubert Miles', 'Joseph Bridges', 'Sergio Murphy', 'Audrey Ferguson', 'Edna Williams', 'Randy Fleming', 'Elisa Hart', 'Ernesto Hunt', 'Shannon Chavez', 'Sammy Cain', 'Steven Reeves', 'Ruben Jones', 'Essie Hansen', 'Rene Hardy', 'Lucy Snyder', 'Dallas Obrien', 'Stacey Payne', 'Tanya Cox', 'Melody Moran', 'Louise Becker', 'Ryan Webster', 'Justin Blake', 'Beverly Baldwin', 'Dale Brady', 'Guadalupe Potter', 'Desiree Butler', 'Sonja Barnett', 'Angelica Garza', 'Jamie Welch', 'Rex Hudson', 'Nadine Gibbs', 'Hannah Pratt', 'Gayle Richards', 'Stanley Holland', 'Anna Dean', 'Terrance Saunders', 'Brandi Zimmerman', 'Guadalupe Freeman', 'Irving Patterson', 'Karl Ross', 'Brandy Cortez', 'Mamie Riley', 'Mike Thornton', 'Jamie Vaughn', 'Noah Day', 'Josephine Keller', 'Tracey Wolfe', 'Ignacio Parks', 'Beatrice Newman', 'Andre Norris', 'Albert Lewis', 'Javier Bailey', 'Everett Lyons', 'Abraham Maxwell', 'Traci Craig', 'Jeffrey Jenkins', 'Merle Wilson', 'Janis Franklin', 'Leonard Guerrero', 'Lana Sanchez', 'Donna Ball', 'Terrell Barber', 'Jody Flores', 'Daryl Herrera', 'Miguel Mcguire', 'Rogelio Gonzalez', 'Lora Hammond', 'Owen Ward', 'Malcolm Morales', 'Eric Mcdaniel', 'Madeline Estrada', 'Leticia Manning', 'Mario Wallace', 'Lewis Glover', 'Gail Phelps', 'Myrtle Morris', 'Edith Mcbride', 'Herbert Tran', 'Paul Clarke', 'Lucille Caldwell', 'Eduardo George', 'Danny Mclaughlin', 'Stacy Vargas', 'Shaun Brock', 'Erick Harper', 'Michelle Howell', 'Carroll Boyd', 'Teresa Carter', 'Jacob Kennedy', 'Craig Chambers', 'Peggy Bell', 'Kenneth Cunningham', 'Marvin Morgan', 'Marjorie Russell', 'Israel Cummings', 'June Doyle', 'Jaime Buchanan', 'Rhonda Farmer', 'Darren Mckenzie', 'Rufus Malone', 'Hubert Miles', 'Joseph Bridges', 'Sergio Murphy', 'Audrey Ferguson', 'Edna Williams', 'Randy Fleming', 'Elisa Hart', 'Ernesto Hunt', 'Shannon Chavez', 'Sammy Cain', 'Steven Reeves', 'Ruben Jones', 'Essie Hansen', 'Rene Hardy', 'Lucy Snyder', 'Dallas Obrien', 'Stacey Payne', 'Tanya Cox', 'Melody Moran', 'Louise Becker', 'Ryan Webster', 'Justin Blake', 'Beverly Baldwin', 'Dale Brady', 'Guadalupe Potter', 'Desiree Butler', 'Sonja Barnett', 'Angelica Garza', 'Jamie Welch', 'Rex Hudson', 'Nadine Gibbs', 'Hannah Pratt', 'Gayle Richards', 'Stanley Holland', 'Anna Dean', 'Terrance Saunders', 'Brandi Zimmerman', 'Guadalupe Freeman', 'Irving Patterson', 'Karl Ross', 'Brandy Cortez', 'Mamie Riley', 'Mike Thornton', 'Jamie Vaughn', 'Noah Day', 'Josephine Keller', 'Tracey Wolfe', 'Ignacio Parks', 'Beatrice Newman', 'Andre Norris', 'Albert Lewis', 'Javier Bailey', 'Everett Lyons', 'Abraham Maxwell', 'Traci Craig', 'Jeffrey Jenkins', 'Merle Wilson', 'Janis Franklin', 'Leonard Guerrero', 'Lana Sanchez', 'Donna Ball', 'Terrell Barber', 'Jody Flores', 'Daryl Herrera', 'Miguel Mcguire', 'Rogelio Gonzalez', 'Lora Hammond', 'Owen Ward', 'Malcolm Morales', 'Eric Mcdaniel', 'Madeline Estrada', 'Leticia Manning', 'Mario Wallace', 'Lewis Glover', 'Gail Phelps', 'Myrtle Morris']\n"
     ]
    }
   ],
   "source": [
    "for item in transactions_clean:\n",
    "    customers.append(item[0])\n",
    "    sales.append(item[1])\n",
    "    thread_sold.append(item[2])\n",
    "\n",
    "print(customers)"
   ]
  },
  {
   "cell_type": "code",
   "execution_count": null,
   "metadata": {},
   "outputs": [],
   "source": []
  }
 ],
 "metadata": {
  "kernelspec": {
   "display_name": "Python 3",
   "language": "python",
   "name": "python3"
  },
  "language_info": {
   "codemirror_mode": {
    "name": "ipython",
    "version": 3
   },
   "file_extension": ".py",
   "mimetype": "text/x-python",
   "name": "python",
   "nbconvert_exporter": "python",
   "pygments_lexer": "ipython3",
   "version": "3.6.5"
  }
 },
 "nbformat": 4,
 "nbformat_minor": 4
}
