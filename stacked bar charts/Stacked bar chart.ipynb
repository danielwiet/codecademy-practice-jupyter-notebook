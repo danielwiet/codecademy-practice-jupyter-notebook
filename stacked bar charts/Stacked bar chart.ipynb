{
 "cells": [
  {
   "cell_type": "markdown",
   "metadata": {},
   "source": [
    "## Stacked Bars"
   ]
  },
  {
   "cell_type": "code",
   "execution_count": 6,
   "metadata": {},
   "outputs": [
    {
     "data": {
      "image/png": "[encoded data removed]",
      "text/plain": [
       "<Figure size 720x576 with 1 Axes>"
      ]
     },
     "metadata": {
      "needs_background": "light"
     },
     "output_type": "display_data"
    },
    {
     "data": {
      "text/plain": [
       "<Figure size 432x288 with 0 Axes>"
      ]
     },
     "metadata": {},
     "output_type": "display_data"
    }
   ],
   "source": [
    "from matplotlib import pyplot as plt\n",
    "import numpy as np\n",
    "\n",
    "unit_topics = ['Limits', 'Derivatives', 'Integrals', 'Diff Eq', 'Applications']\n",
    "As = [6, 3, 4, 3, 5]\n",
    "Bs = [8, 12, 8, 9, 10]\n",
    "Cs = [13, 12, 15, 13, 14]\n",
    "Ds = [2, 3, 3, 2, 1]\n",
    "Fs = [1, 0, 0, 3, 0]\n",
    "\n",
    "x = range(len(unit_topics))\n",
    "\n",
    "c_bottom = np.add(As, Bs)\n",
    "\n",
    "#create d_bottom and f_bottom here\n",
    "d_bottom = np.add(c_bottom, Cs)\n",
    "f_bottom = np.add(d_bottom, Ds)\n",
    "\n",
    "#create your plot here\n",
    "plt.figure(figsize=(10, 8))\n",
    "plt.bar(x, As)\n",
    "plt.bar(x, Bs, bottom=As)\n",
    "plt.bar(x, Cs, bottom=c_bottom)\n",
    "plt.bar(x, Ds, bottom=d_bottom)\n",
    "plt.bar(x, Fs, bottom=f_bottom)\n",
    "plt.ylim(0, 35)\n",
    "\n",
    "ax1 = plt.gca()\n",
    "# plt.gca() returns the current active axes object instead of creating a new one. alternativesly,\n",
    "# the ax variable should go before any plt.bar()\n",
    "ax1.set_xticks(range(len(unit_topics)))\n",
    "ax1.set_xticklabels(unit_topics)\n",
    "\n",
    "plt.title('Grade distribution')\n",
    "plt.xlabel('Unit')\n",
    "plt.ylabel('Number of Students')\n",
    "plt.show()\n",
    "plt.savefig('my_stacked_bar.png')"
   ]
  },
  {
   "cell_type": "code",
   "execution_count": null,
   "metadata": {},
   "outputs": [],
   "source": []
  }
 ],
 "metadata": {
  "kernelspec": {
   "display_name": "Python 3",
   "language": "python",
   "name": "python3"
  },
  "language_info": {
   "codemirror_mode": {
    "name": "ipython",
    "version": 3
   },
   "file_extension": ".py",
   "mimetype": "text/x-python",
   "name": "python",
   "nbconvert_exporter": "python",
   "pygments_lexer": "ipython3",
   "version": "3.6.9"
  }
 },
 "nbformat": 4,
 "nbformat_minor": 2
}
